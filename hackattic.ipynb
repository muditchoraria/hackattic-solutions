{
  "nbformat": 4,
  "nbformat_minor": 0,
  "metadata": {
    "colab": {
      "provenance": []
    },
    "kernelspec": {
      "name": "python3",
      "display_name": "Python 3"
    },
    "language_info": {
      "name": "python"
    }
  },
  "cells": [
    {
      "cell_type": "code",
      "execution_count": 88,
      "metadata": {
        "colab": {
          "base_uri": "https://localhost:8080/"
        },
        "id": "SsWK1PvOhkdx",
        "outputId": "36783ffd-ce96-4c37-e9e7-7444a8681a01"
      },
      "outputs": [
        {
          "output_type": "stream",
          "name": "stdout",
          "text": [
            "Requirement already satisfied: requests in /usr/local/lib/python3.10/dist-packages (2.31.0)\n",
            "Requirement already satisfied: opencv-python in /usr/local/lib/python3.10/dist-packages (4.8.0.76)\n",
            "Requirement already satisfied: charset-normalizer<4,>=2 in /usr/local/lib/python3.10/dist-packages (from requests) (3.3.0)\n",
            "Requirement already satisfied: idna<4,>=2.5 in /usr/local/lib/python3.10/dist-packages (from requests) (3.4)\n",
            "Requirement already satisfied: urllib3<3,>=1.21.1 in /usr/local/lib/python3.10/dist-packages (from requests) (2.0.7)\n",
            "Requirement already satisfied: certifi>=2017.4.17 in /usr/local/lib/python3.10/dist-packages (from requests) (2023.7.22)\n",
            "Requirement already satisfied: numpy>=1.21.2 in /usr/local/lib/python3.10/dist-packages (from opencv-python) (1.23.5)\n"
          ]
        }
      ],
      "source": [
        "!pip install requests opencv-python"
      ]
    },
    {
      "cell_type": "markdown",
      "source": [
        "# Challenge 1: https://hackattic.com/challenges/reading_qr"
      ],
      "metadata": {
        "id": "O5q_G6vq3IT4"
      }
    },
    {
      "cell_type": "code",
      "source": [
        "import requests\n",
        "import cv2"
      ],
      "metadata": {
        "id": "LMLtwQcwloKg"
      },
      "execution_count": 89,
      "outputs": []
    },
    {
      "cell_type": "code",
      "source": [
        "input_url = \"https://hackattic.com/challenges/reading_qr/problem?access_token=8a00f0046ce6c354\"\n",
        "\n",
        "image_url_response = requests.get(input_url)\n",
        "qr_code_url = image_url_response.json().get('image_url')\n",
        "qr_code_response = requests.get(qr_code_url)\n",
        "\n",
        "with open('rotated_qr.jpg', 'wb') as f:\n",
        "    f.write(qr_code_response.content)"
      ],
      "metadata": {
        "id": "at_V4Zfr2QKc"
      },
      "execution_count": 95,
      "outputs": []
    },
    {
      "cell_type": "code",
      "source": [
        "image_data = cv2.imread('rotated_qr.jpg')\n",
        "(code_to_send, points, straight_qrcode) = cv2.QRCodeDetector().detectAndDecode(image_data)"
      ],
      "metadata": {
        "id": "YHninqeSngbZ"
      },
      "execution_count": 96,
      "outputs": []
    },
    {
      "cell_type": "code",
      "source": [
        "output_url = 'https://hackattic.com/challenges/reading_qr/solve?access_token=8a00f0046ce6c354&playground=1'\n",
        "payload = {\"code\": code_to_send}\n",
        "\n",
        "requests.post(output_url, json = payload).text"
      ],
      "metadata": {
        "colab": {
          "base_uri": "https://localhost:8080/",
          "height": 36
        },
        "id": "2nLM3jCJiiur",
        "outputId": "e9ba51e8-6dfe-4882-b6e8-32e63c28a203"
      },
      "execution_count": 97,
      "outputs": [
        {
          "output_type": "execute_result",
          "data": {
            "text/plain": [
              "'{\"result\": \"passed (playground mode)\"}'"
            ],
            "application/vnd.google.colaboratory.intrinsic+json": {
              "type": "string"
            }
          },
          "metadata": {},
          "execution_count": 97
        }
      ]
    },
    {
      "cell_type": "code",
      "source": [],
      "metadata": {
        "id": "z_HpnJHM15DB"
      },
      "execution_count": 92,
      "outputs": []
    }
  ]
}