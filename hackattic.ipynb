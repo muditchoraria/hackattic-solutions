{
  "nbformat": 4,
  "nbformat_minor": 0,
  "metadata": {
    "colab": {
      "provenance": []
    },
    "kernelspec": {
      "name": "python3",
      "display_name": "Python 3"
    },
    "language_info": {
      "name": "python"
    }
  },
  "cells": [
    {
      "cell_type": "code",
      "execution_count": 25,
      "metadata": {
        "colab": {
          "base_uri": "https://localhost:8080/"
        },
        "id": "SsWK1PvOhkdx",
        "outputId": "71fb08a7-77f3-4bbb-d2bc-8929e7ece2ca"
      },
      "outputs": [
        {
          "output_type": "stream",
          "name": "stdout",
          "text": [
            "Requirement already satisfied: requests in /usr/local/lib/python3.10/dist-packages (2.31.0)\n",
            "Requirement already satisfied: opencv-python in /usr/local/lib/python3.10/dist-packages (4.8.0.76)\n",
            "Requirement already satisfied: charset-normalizer<4,>=2 in /usr/local/lib/python3.10/dist-packages (from requests) (3.3.0)\n",
            "Requirement already satisfied: idna<4,>=2.5 in /usr/local/lib/python3.10/dist-packages (from requests) (3.4)\n",
            "Requirement already satisfied: urllib3<3,>=1.21.1 in /usr/local/lib/python3.10/dist-packages (from requests) (2.0.7)\n",
            "Requirement already satisfied: certifi>=2017.4.17 in /usr/local/lib/python3.10/dist-packages (from requests) (2023.7.22)\n",
            "Requirement already satisfied: numpy>=1.21.2 in /usr/local/lib/python3.10/dist-packages (from opencv-python) (1.23.5)\n"
          ]
        }
      ],
      "source": [
        "!pip install requests opencv-python"
      ]
    },
    {
      "cell_type": "markdown",
      "source": [
        "# Challenge 1: https://hackattic.com/challenges/reading_qr"
      ],
      "metadata": {
        "id": "O5q_G6vq3IT4"
      }
    },
    {
      "cell_type": "code",
      "source": [
        "import requests\n",
        "import cv2"
      ],
      "metadata": {
        "id": "LMLtwQcwloKg"
      },
      "execution_count": 26,
      "outputs": []
    },
    {
      "cell_type": "code",
      "source": [
        "challenge_1_url = \"https://hackattic.com/challenges/reading_qr/problem?access_token=8a00f0046ce6c354\"\n",
        "\n",
        "image_url_response = requests.get(challenge_1_url)\n",
        "qr_code_url = image_url_response.json().get('image_url')\n",
        "qr_code_response = requests.get(qr_code_url)\n",
        "\n",
        "with open('rotated_qr.jpg', 'wb') as f:\n",
        "    f.write(qr_code_response.content)"
      ],
      "metadata": {
        "id": "at_V4Zfr2QKc"
      },
      "execution_count": 27,
      "outputs": []
    },
    {
      "cell_type": "code",
      "source": [
        "image_data = cv2.imread('rotated_qr.jpg')\n",
        "(code_to_send, points, straight_qrcode) = cv2.QRCodeDetector().detectAndDecode(image_data)"
      ],
      "metadata": {
        "id": "YHninqeSngbZ"
      },
      "execution_count": 28,
      "outputs": []
    },
    {
      "cell_type": "code",
      "source": [
        "output_url = 'https://hackattic.com/challenges/reading_qr/solve?access_token=8a00f0046ce6c354&playground=1'\n",
        "payload = {\"code\": code_to_send}\n",
        "\n",
        "requests.post(output_url, json = payload).text"
      ],
      "metadata": {
        "colab": {
          "base_uri": "https://localhost:8080/",
          "height": 36
        },
        "id": "2nLM3jCJiiur",
        "outputId": "a9c234e4-5c65-4fc5-b0cd-8717f7f9c9f5"
      },
      "execution_count": 29,
      "outputs": [
        {
          "output_type": "execute_result",
          "data": {
            "text/plain": [
              "'{\"result\": \"passed (playground mode)\"}'"
            ],
            "application/vnd.google.colaboratory.intrinsic+json": {
              "type": "string"
            }
          },
          "metadata": {},
          "execution_count": 29
        }
      ]
    },
    {
      "cell_type": "markdown",
      "source": [
        "# Challenge 2: https://hackattic.com/challenges/help_me_unpack"
      ],
      "metadata": {
        "id": "cI0KmH5rAtTe"
      }
    },
    {
      "cell_type": "code",
      "source": [
        "import base64\n",
        "import struct\n",
        "import requests\n",
        "\n",
        "challenge_2_url = 'https://hackattic.com/challenges/help_me_unpack/problem?access_token=8a00f0046ce6c354'\n",
        "\n",
        "base64_encoded_data = requests.get(challenge_2_url).json().get('bytes')"
      ],
      "metadata": {
        "id": "z_HpnJHM15DB"
      },
      "execution_count": 30,
      "outputs": []
    },
    {
      "cell_type": "code",
      "source": [
        "base64.b64decode(base64_encoded_data)"
      ],
      "metadata": {
        "colab": {
          "base_uri": "https://localhost:8080/"
        },
        "id": "fY6-_YQEB57g",
        "outputId": "edddd382-7a59-4f4f-e163-b133960d3b59"
      },
      "execution_count": 31,
      "outputs": [
        {
          "output_type": "execute_result",
          "data": {
            "text/plain": [
              "b'\\x08\\x85\\xa2\\x88\\x86\\xebp\\xe5\\x90\\x8a\\x00\\x00\\xa8\\x8a\\xb4C$\\x18\\x05B\\xca\\xbdm@@m\\xbd\\xcaB\\x05\\x18$'"
            ]
          },
          "metadata": {},
          "execution_count": 31
        }
      ]
    },
    {
      "cell_type": "code",
      "source": [
        "# Decode the base64-encoded string\n",
        "decoded_bytes = base64.b64decode(base64_encoded_data)\n",
        "\n",
        "# Define the format string for unpacking\n",
        "format_string = 'iIhfdd'\n",
        "\n",
        "intt, uintt, shortt, floatt, double = struct.unpack('<iIhxxfd', decoded_bytes[:24])\n",
        "bed, = struct.unpack('>d', decoded_bytes[24:])"
      ],
      "metadata": {
        "id": "t1RSo-Yb6EL4"
      },
      "execution_count": 32,
      "outputs": []
    },
    {
      "cell_type": "code",
      "source": [
        "output_url = 'https://hackattic.com/challenges/help_me_unpack/solve?access_token=8a00f0046ce6c354&playground=1'\n",
        "payload = {\"int\": intt,\n",
        "           \"uint\": uintt,\n",
        "           \"short\": shortt,\n",
        "           \"float\": floatt,\n",
        "           \"double\": double,\n",
        "           \"big_endian_double\": bed}\n",
        "\n",
        "requests.post(output_url, json = payload).text"
      ],
      "metadata": {
        "colab": {
          "base_uri": "https://localhost:8080/",
          "height": 36
        },
        "id": "clmoiLz97Y9c",
        "outputId": "2e53051c-8477-4855-c7f4-d5b4cebf060c"
      },
      "execution_count": 33,
      "outputs": [
        {
          "output_type": "execute_result",
          "data": {
            "text/plain": [
              "'{\"result\": \"passed (playground mode)\"}'"
            ],
            "application/vnd.google.colaboratory.intrinsic+json": {
              "type": "string"
            }
          },
          "metadata": {},
          "execution_count": 33
        }
      ]
    },
    {
      "cell_type": "code",
      "source": [],
      "metadata": {
        "id": "yot2aw0U7FrT"
      },
      "execution_count": 33,
      "outputs": []
    }
  ]
}